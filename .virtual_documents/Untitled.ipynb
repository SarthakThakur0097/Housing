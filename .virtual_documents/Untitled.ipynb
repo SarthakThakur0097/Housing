import pandas as pd
import numpy as np
from matplotlib import pyplot as plt
get_ipython().run_line_magic("matplotlib", " inline")
import matplotlib
matplotlib.rcParams['figure.figsize'] = (20, 10)


df = pd.read_csv('Data/Bengaluru_House_Data.csv')
df


df1 = df.drop(['availability'], axis=1)


df1['BHK'] = df1['size'].apply(lambda x: x.split(' ')[0] if isinstance(x, str) else x)


df1.drop('size', axis=1, inplace=True)


def is_float(x):
    try:
        float(x)
    except:
        return False
    return True


def convert_sqft_to_num(x):
    tokens = x.split('-')
    if len(tokens)==2:
        return (float(tokens[0])+float(tokens[1]))/2
    try:
        return float(x)
    except:
        return None


convert_sqft_to_num('2115 - 2200')


df1['total_sqft'].apply(convert_sqft_to_num)


df1


df2 = df1.copy()
df2['price'] = pd.to_numeric(df2['price'], errors='coerce')
df2['total_sqft'] = pd.to_numeric(df2['total_sqft'], errors='coerce')

df2['price_per_sqft'] = df2['price']*100000/df2['total_sqft']


df2['location'] = df2['location'].apply(lambda x: x.strip() if isinstance(x, str) else x)
location_stats = df2.groupby('location')['location'].agg('count').sort_values(ascending=False)
location_stats


def print_non_string_locations(df2):
    for index, row in df2.iterrows():
        location = row['location']
        if not isinstance(location, str):
            print(f"Row {index}: {location}")

# Example usage
print_non_string_locations(df2)


df2.dropna(subset=['location'], inplace=True)


len(location_stats[location_stats<=10])


location_stats_less_than_10 = location_stats[location_stats<=10]
location_stats_less_than_10


df2.location = df2.location.apply(lambda x: 'other' if x in location_stats_less_than_10 else x)


len(df2.location.unique())


df2.shape


def convert_strings_to_floats(df, column_name):
    if column_name not in df.columns:
        raise ValueError(f"Column '{column_name}' not found in the DataFrame.")

    df[column_name] = df[column_name].apply(lambda x: float(x) if isinstance(x, str) else x)
    return df

# Check and convert 'Column1' values to floats
d3 = convert_strings_to_floats(df2, 'BHK')



df3 = df2[~(df2.total_sqft/df2.BHK<300)]
df3.shape


df3


def remove_pps_outlier(df):
    df_out = pd.DataFrame()
    for key, subdf in df.groupby('location'):
        m = np.mean(subdf.price_per_sqft)
        st = np.std(subdf.price_per_sqft)
        reduced_df = subdf[(subdf.price_per_sqft>(m-st)) & (subdf.price_per_sqft<=(m+st))]
        df_out = pd.concat([df_out, reduced_df], ignore_index=True)
    return df_out
df7 = remove_pps_outlier(df3)



df7.shape


def plot_scatter_chart(df, location):
    bhk2= df[(df.location==location) & (df.BHK==2)]
    bhk3 = df[(df.location==location) & (df.BHK==3)]
    matplotlib.rcParams['figure.figsize']=(15, 10)
    plt.scatter(bhk2.total_sqft, bhk2.price, color='blue', label='2 BHK', s=50)
    plt.scatter(bhk3.total_sqft, bhk3.price, marker='+', color='green', label='3 BHK', s=50)
    plt.xlabel("Total Square Feet Area")
    plt.ylabel("Price Per Square Feet")
    plt.title(location)
    plt.legend()
plot_scatter_chart(df7, "Rajaji Nagar")


plot_scatter_chart(df7, "Hebbal")


def remove_bhk_outlier(df):
    exclude_indices = np.array([])
    for location, location_df in df.groupby('location'):
        bhk_stats = {}
        for bhk, bhk_df in location_df.groupby('BHK'):
            bhk_stats[bhk] = {
                'mean': np.mean(bhk_df.price_per_sqft),
                'std': np.std(bhk_df.price_per_sqft),
                'count': bhk_df.shape[0]
            }
        for bhk, bhk_df in location_df.groupby('BHK'):
            stats = bhk_stats.get(bhk-1)
            if stats and stats['count'] > 5:
                exclude_indices = np.append(exclude_indices, bhk_df[bhk_df.price_per_sqft < (stats['mean'])].index.values)
    return df.drop(exclude_indices, axis='index')



df8 = remove_bhk_outlier(df7)
df8.shape


plot_scatter_chart(df8, "Hebbal")


import matplotlib
matplotlib.rcParams["figure.figsize"] = (20, 10)
plt.hist(df8.price_per_sqft, rwidth=0.8)
plt.xlabel("Price Per Square Feet")
plt.ylabel("Count")


plt.hist(df8.bath, rwidth=0.8)


df8[df8.bath>df8.BHK+2]


df9 = df8[df8.bath<df8.BHK+2]


df10 = df9.drop(['price_per_sqft', 'society'], axis=1)


from sklearn.model_selection import train_test_split, cross_val_score, ShuffleSplit
from sklearn.linear_model import LinearRegression
from sklearn.preprocessing import OneHotEncoder
from sklearn.impute import SimpleImputer
from sklearn.compose import ColumnTransformer
from sklearn.pipeline import Pipeline

X = df10.drop('price', axis=1)
y = df10['price']

cat_cols = ['location','area_type']
impute_cols = ['balcony']
cat_imputer = SimpleImputer(strategy='most_frequent')
encoder = OneHotEncoder(sparse_output=False)

preprocessor = ColumnTransformer([('cat_transformer_imputer', cat_imputer, impute_cols),
                                 ('cat_transformer', encoder, cat_cols)],
                                remainder='passthrough')
clf = LinearRegression()
pipeline = Pipeline([('preprocessor', preprocessor),
                    ('clf', clf)])
cv = ShuffleSplit(n_splits=4, test_size=0.2, random_state=42)

scores = cross_val_score(pipeline, X, y, cv=cv)

print("Cross-validation scores:", scores)
